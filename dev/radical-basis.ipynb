{
 "cells": [
  {
   "cell_type": "code",
   "execution_count": 1,
   "metadata": {
    "collapsed": true
   },
   "outputs": [],
   "source": [
    "import tensorflow as tf\n",
    "import numpy as np\n",
    "import matplotlib.pyplot as plt\n",
    "from sklearn import datasets\n",
    "%matplotlib inline"
   ]
  },
  {
   "cell_type": "markdown",
   "metadata": {},
   "source": [
    "# Generating the training data"
   ]
  },
  {
   "cell_type": "code",
   "execution_count": 172,
   "metadata": {},
   "outputs": [
    {
     "name": "stdout",
     "output_type": "stream",
     "text": [
      "(200, 2)\n",
      "(200,)\n"
     ]
    },
    {
     "data": {
      "image/png": "[encoded data removed]",
      "text/plain": [
       "<matplotlib.figure.Figure at 0x7f5198ab8d10>"
      ]
     },
     "metadata": {},
     "output_type": "display_data"
    }
   ],
   "source": [
    "n = 200\n",
    "# (x, y) = datasets.make_circles(n_samples=n, noise=0.1)\n",
    "(x, y) = datasets.make_moons(n_samples=n, noise=0.1)\n",
    "I = (y > 0)\n",
    "J = np.logical_not(I)\n",
    "print x.shape\n",
    "print y.shape\n",
    "plt.plot(x[I,0], x[I, 1], '.', x[J,0], x[J, 1], 'x');"
   ]
  },
  {
   "cell_type": "markdown",
   "metadata": {},
   "source": [
    "# Building the Radical Basis Function Network"
   ]
  },
  {
   "cell_type": "code",
   "execution_count": 189,
   "metadata": {},
   "outputs": [],
   "source": [
    "class NN(object):\n",
    "    pass\n",
    "\n",
    "r = NN()\n",
    "\n",
    "# Number of radical basis to use\n",
    "r.N = 10\n",
    "\n",
    "r.x = tf.placeholder(tf.float32, (None, 2))\n",
    "r.c = tf.Variable(tf.random_normal(shape=(N, 2)), dtype=tf.float32)\n",
    "r.v = tf.Variable(tf.ones(shape=(N,1)))\n",
    "r.W = tf.Variable(tf.random_normal(shape=(N, 1)))\n",
    "r.b = tf.Variable(0, dtype=tf.float32)\n",
    "\n",
    "pho = [None] * r.N\n",
    "for i in range(r.N):\n",
    "    d = tf.norm(r.x - r.c[i,:], axis=1)\n",
    "    pho[i] = tf.exp(-d * d / 2 / r.v[i])\n",
    "r.rho = tf.transpose(tf.stack(pho))\n",
    "r.y = tf.matmul(r.rho, r.W) + r.b\n",
    "r.ref = tf.placeholder(tf.float32, (None, 1))"
   ]
  },
  {
   "cell_type": "code",
   "execution_count": 192,
   "metadata": {},
   "outputs": [],
   "source": [
    "r.err = tf.reduce_sum(tf.nn.sigmoid_cross_entropy_with_logits(labels=r.ref, logits=r.y))"
   ]
  },
  {
   "cell_type": "markdown",
   "metadata": {},
   "source": [
    "# Training"
   ]
  },
  {
   "cell_type": "code",
   "execution_count": 195,
   "metadata": {},
   "outputs": [
    {
     "data": {
      "text/plain": [
       "66.603683"
      ]
     },
     "execution_count": 195,
     "metadata": {},
     "output_type": "execute_result"
    }
   ],
   "source": [
    "batch_size = 100\n",
    "epochs = 100\n",
    "rate = 0.01\n",
    "\n",
    "def batch():\n",
    "    index = np.random.choice(n, batch_size)\n",
    "    x_train = x[index]\n",
    "    y_train = y[index].reshape(batch_size, 1)\n",
    "    return {r.x: x_train, r.ref: y_train}\n",
    "\n",
    "optimizer = tf.train.GradientDescentOptimizer(rate).minimize(r.err)\n",
    "\n",
    "s = tf.Session()\n",
    "s.run(tf.global_variables_initializer())\n",
    "s.run(r.err, batch())"
   ]
  },
  {
   "cell_type": "code",
   "execution_count": 198,
   "metadata": {},
   "outputs": [
    {
     "name": "stdout",
     "output_type": "stream",
     "text": [
      "[0] 72.476\n",
      "[10] 29.786\n",
      "[20] 35.416\n",
      "[30] 28.579\n",
      "[40] 23.640\n",
      "[50] 25.134\n",
      "[60] 17.643\n",
      "[70] 17.658\n",
      "[80] 14.817\n",
      "[90] 9.267\n",
      "Done: 8.660\n"
     ]
    }
   ],
   "source": [
    "for ep in range(epochs):\n",
    "    err, _ = s.run((r.err, optimizer), feed_dict=batch())\n",
    "    if ep % (epochs // 10) == 0:\n",
    "        print \"[%d] %.3f\" % (ep, err)\n",
    "print \"Done: %.3f\" % err"
   ]
  },
  {
   "cell_type": "markdown",
   "metadata": {},
   "source": [
    "# Plot the decision boundary"
   ]
  },
  {
   "cell_type": "code",
   "execution_count": 203,
   "metadata": {
    "collapsed": true
   },
   "outputs": [],
   "source": [
    "x0 = np.linspace(np.min(x[:,0]), np.max(x[:, 0]), 100)\n",
    "x1 = np.linspace(np.min(x[:,1]), np.max(x[:, 1]), 100)\n",
    "xx, yy = np.meshgrid(x0, x1)\n",
    "xy = np.asarray([xx.reshape(-1), yy.reshape(-1)]).T\n",
    "z = s.run(r.y, feed_dict={r.x: xy})\n",
    "z = z.reshape(100, 100)"
   ]
  },
  {
   "cell_type": "code",
   "execution_count": 211,
   "metadata": {},
   "outputs": [
    {
     "data": {
      "image/png": "[encoded data removed]",
      "text/plain": [
       "<matplotlib.figure.Figure at 0x7f5189722890>"
      ]
     },
     "metadata": {},
     "output_type": "display_data"
    }
   ],
   "source": [
    "plt.contourf(xx, yy, z, levels=[np.min(z), 0.5, np.max(z)], alpha=0.6);\n",
    "plt.plot(x[I,0], x[I, 1], '.', x[J,0], x[J, 1], 'x');"
   ]
  },
  {
   "cell_type": "code",
   "execution_count": null,
   "metadata": {
    "collapsed": true
   },
   "outputs": [],
   "source": []
  }
 ],
 "metadata": {
  "kernelspec": {
   "display_name": "Python 2",
   "language": "python",
   "name": "python2"
  },
  "language_info": {
   "codemirror_mode": {
    "name": "ipython",
    "version": 2
   },
   "file_extension": ".py",
   "mimetype": "text/x-python",
   "name": "python",
   "nbconvert_exporter": "python",
   "pygments_lexer": "ipython2",
   "version": "2.7.12"
  }
 },
 "nbformat": 4,
 "nbformat_minor": 2
}
