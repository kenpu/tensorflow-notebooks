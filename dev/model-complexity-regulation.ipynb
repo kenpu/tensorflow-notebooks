{
 "cells": [
  {
   "cell_type": "markdown",
   "metadata": {},
   "source": [
    "# On regulation of model complexity"
   ]
  },
  {
   "cell_type": "code",
   "execution_count": 1,
   "metadata": {
    "collapsed": true
   },
   "outputs": [],
   "source": [
    "import tensorflow as tf\n",
    "import numpy as np\n",
    "from matplotlib import pyplot as P\n",
    "%matplotlib inline"
   ]
  },
  {
   "cell_type": "markdown",
   "metadata": {},
   "source": [
    "We generate training data from a rather simple model, but with noise"
   ]
  },
  {
   "cell_type": "code",
   "execution_count": 3,
   "metadata": {
    "collapsed": true
   },
   "outputs": [],
   "source": [
    "N = 100\n",
    "k = 5\n",
    "np.random.seed(0)\n",
    "x = np.linspace(-1, 1, N)\n",
    "I = np.random.choice(N, k)\n",
    "y = x * x\n",
    "y[I] += 0.5"
   ]
  },
  {
   "cell_type": "code",
   "execution_count": 6,
   "metadata": {},
   "outputs": [
    {
     "data": {
      "image/png": "[encoded data removed]",
      "text/plain": [
       "<matplotlib.figure.Figure at 0x7f24aea94310>"
      ]
     },
     "metadata": {},
     "output_type": "display_data"
    }
   ],
   "source": [
    "P.plot(x, y, '.');"
   ]
  },
  {
   "cell_type": "markdown",
   "metadata": {},
   "source": [
    "# Define a neural network"
   ]
  },
  {
   "cell_type": "code",
   "execution_count": 97,
   "metadata": {
    "collapsed": true
   },
   "outputs": [],
   "source": [
    "layers = [10] * 10\n",
    "class NN():\n",
    "    pass\n",
    "nn = NN()\n",
    "nn.x = tf.placeholder(tf.float32, (N, 1))\n",
    "nn.ref = tf.placeholder(tf.float32, (N, 1))\n",
    "L  = tf.layers.dense(inputs=nn.x, units=layers[0], activation=tf.nn.tanh)\n",
    "for i in range(1, len(layers)):\n",
    "    L = tf.layers.dense(inputs=L, units=layers[i], activation=tf.nn.tanh)\n",
    "nn.y = tf.layers.dense(inputs=L, units=1, activation=None)\n",
    "nn.err = tf.reduce_sum(tf.pow(nn.ref - nn.y, 2)) / N"
   ]
  },
  {
   "cell_type": "markdown",
   "metadata": {},
   "source": [
    "# Setup training"
   ]
  },
  {
   "cell_type": "code",
   "execution_count": 98,
   "metadata": {
    "collapsed": true
   },
   "outputs": [],
   "source": [
    "learning_rate = 0.01\n",
    "optimizer = tf.train.GradientDescentOptimizer(learning_rate).minimize(nn.err)\n",
    "s = tf.Session()\n",
    "s.run(tf.global_variables_initializer())"
   ]
  },
  {
   "cell_type": "code",
   "execution_count": 99,
   "metadata": {
    "collapsed": true
   },
   "outputs": [],
   "source": [
    "feed = {nn.x: x.reshape(N, 1), nn.ref: y.reshape(N, 1)}"
   ]
  },
  {
   "cell_type": "code",
   "execution_count": 100,
   "metadata": {},
   "outputs": [
    {
     "name": "stdout",
     "output_type": "stream",
     "text": [
      "[0] 0.22782\n",
      "[1000] 0.01154\n",
      "[2000] 0.01033\n",
      "[3000] 0.00981\n",
      "[4000] 0.00952\n",
      "[5000] 0.00934\n",
      "[6000] 0.00923\n",
      "[7000] 0.00916\n",
      "[8000] 0.00911\n",
      "[9000] 0.00908\n",
      "Done\n"
     ]
    }
   ],
   "source": [
    "epochs = 10000\n",
    "for ep in range(epochs):\n",
    "    err, _ = s.run((nn.err, optimizer), feed_dict=feed)\n",
    "    if ep % (epochs / 10) == 0:\n",
    "        print \"[%d] %.5f\" % (ep, err)\n",
    "print \"Done\""
   ]
  },
  {
   "cell_type": "markdown",
   "metadata": {
    "collapsed": true
   },
   "source": [
    "# Analyze the training"
   ]
  },
  {
   "cell_type": "code",
   "execution_count": 101,
   "metadata": {
    "collapsed": true
   },
   "outputs": [],
   "source": [
    "z = np.squeeze(s.run(nn.y, feed_dict=feed))"
   ]
  },
  {
   "cell_type": "code",
   "execution_count": 102,
   "metadata": {},
   "outputs": [
    {
     "data": {
      "image/png": "[encoded data removed]",
      "text/plain": [
       "<matplotlib.figure.Figure at 0x7f249ad2ddd0>"
      ]
     },
     "metadata": {},
     "output_type": "display_data"
    }
   ],
   "source": [
    "P.plot(x, y, '.', x, z, '--');"
   ]
  },
  {
   "cell_type": "code",
   "execution_count": null,
   "metadata": {
    "collapsed": true
   },
   "outputs": [],
   "source": []
  }
 ],
 "metadata": {
  "kernelspec": {
   "display_name": "Python 2",
   "language": "python",
   "name": "python2"
  },
  "language_info": {
   "codemirror_mode": {
    "name": "ipython",
    "version": 2
   },
   "file_extension": ".py",
   "mimetype": "text/x-python",
   "name": "python",
   "nbconvert_exporter": "python",
   "pygments_lexer": "ipython2",
   "version": "2.7.12"
  }
 },
 "nbformat": 4,
 "nbformat_minor": 2
}
