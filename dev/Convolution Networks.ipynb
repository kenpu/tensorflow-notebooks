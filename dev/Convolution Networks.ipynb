{
 "cells": [
  {
   "cell_type": "code",
   "execution_count": 2,
   "metadata": {
    "collapsed": true
   },
   "outputs": [],
   "source": [
    "import tensorflow as tf\n",
    "import numpy as np\n",
    "import matplotlib.pyplot as pl\n",
    "from tensorflow.examples.tutorials.mnist import input_data\n",
    "%matplotlib inline"
   ]
  },
  {
   "cell_type": "code",
   "execution_count": 3,
   "metadata": {},
   "outputs": [
    {
     "name": "stdout",
     "output_type": "stream",
     "text": [
      "Extracting MNIST_data/train-images-idx3-ubyte.gz\n",
      "Extracting MNIST_data/train-labels-idx1-ubyte.gz\n",
      "Extracting MNIST_data/t10k-images-idx3-ubyte.gz\n",
      "Extracting MNIST_data/t10k-labels-idx1-ubyte.gz\n"
     ]
    }
   ],
   "source": [
    "mnist = input_data.read_data_sets('MNIST_data', one_hot=True)"
   ]
  },
  {
   "cell_type": "code",
   "execution_count": 8,
   "metadata": {},
   "outputs": [],
   "source": [
    "class N():\n",
    "    pass\n",
    "\n",
    "tf.reset_default_graph()\n",
    "\n",
    "model = N()\n",
    "model.x = tf.placeholder(tf.float32, (None, 28, 28, 1))\n",
    "model.ref = tf.placeholder(tf.float32, (None, 10))\n",
    "model.L1 = tf.layers.conv2d(inputs=model.x, filters=3, kernel_size=(5,5), padding='same', name='conv2d')\n",
    "model.L2 = tf.layers.max_pooling2d(inputs=model.L1, pool_size=(5, 5), strides=(5,5))\n",
    "model.L3 = tf.reshape(model.L2, (-1, 5*5*3))\n",
    "model.L4 = tf.layers.dense(inputs=model.L3, units=10)\n",
    "model.y = model.L4\n",
    "model.err = tf.reduce_mean(tf.nn.softmax_cross_entropy_with_logits(labels=model.ref, logits=model.y))"
   ]
  },
  {
   "cell_type": "code",
   "execution_count": 21,
   "metadata": {},
   "outputs": [],
   "source": [
    "def feed(model, im=None):\n",
    "    if im is not None:\n",
    "        return {model.x: np.asarray([im]).reshape(-1, 28, 28, 1)}\n",
    "    else:\n",
    "        images, labels = mnist.train.next_batch(100)\n",
    "        return {model.x: images.reshape(-1, 28, 28, 1), model.ref: labels}"
   ]
  },
  {
   "cell_type": "code",
   "execution_count": 10,
   "metadata": {},
   "outputs": [
    {
     "data": {
      "text/plain": [
       "2.2861021"
      ]
     },
     "execution_count": 10,
     "metadata": {},
     "output_type": "execute_result"
    }
   ],
   "source": [
    "rate = 0.5\n",
    "s = tf.Session()\n",
    "optimizer = tf.train.GradientDescentOptimizer(rate).minimize(model.err)\n",
    "s.run(tf.global_variables_initializer())\n",
    "s.run(model.err, feed(model))"
   ]
  },
  {
   "cell_type": "code",
   "execution_count": 11,
   "metadata": {},
   "outputs": [
    {
     "name": "stdout",
     "output_type": "stream",
     "text": [
      "2.1839\n",
      "1.0940\n",
      "0.4456\n",
      "0.1746\n",
      "0.1420\n",
      "0.0698\n",
      "0.0380\n",
      "0.0260\n",
      "0.0196\n",
      "0.0156\n",
      "Done\n"
     ]
    }
   ],
   "source": [
    "data = feed(model)\n",
    "for i in range(100):\n",
    "    s.run(optimizer, data)\n",
    "    if i % 10 == 0:\n",
    "        print \"%.4f\" % s.run(model.err, data)\n",
    "print \"Done\""
   ]
  },
  {
   "cell_type": "code",
   "execution_count": 18,
   "metadata": {},
   "outputs": [
    {
     "data": {
      "image/png": "[encoded data removed]",
      "text/plain": [
       "<matplotlib.figure.Figure at 0x7ff25758a4d0>"
      ]
     },
     "metadata": {},
     "output_type": "display_data"
    }
   ],
   "source": [
    "im = mnist.test.images[0].reshape(28, 28)\n",
    "pl.imshow(im, cmap='gray_r');\n",
    "pl.axis('off');"
   ]
  },
  {
   "cell_type": "code",
   "execution_count": 22,
   "metadata": {},
   "outputs": [],
   "source": [
    "y = s.run(model.y, feed(model, im))"
   ]
  },
  {
   "cell_type": "code",
   "execution_count": 30,
   "metadata": {},
   "outputs": [
    {
     "data": {
      "text/plain": [
       "[(7, 11.353979),\n",
       " (9, 3.3661587),\n",
       " (3, 2.6594298),\n",
       " (1, 1.7477473),\n",
       " (4, 0.34729218),\n",
       " (5, -1.6936768),\n",
       " (8, -2.2801325),\n",
       " (0, -4.907208),\n",
       " (2, -6.322309),\n",
       " (6, -7.0889144)]"
      ]
     },
     "execution_count": 30,
     "metadata": {},
     "output_type": "execute_result"
    }
   ],
   "source": [
    "sorted(enumerate(y.reshape(-1)), key=lambda x: x[-1], reverse=1)"
   ]
  },
  {
   "cell_type": "code",
   "execution_count": 37,
   "metadata": {},
   "outputs": [
    {
     "data": {
      "text/plain": [
       "(5, 5, 3)"
      ]
     },
     "execution_count": 37,
     "metadata": {},
     "output_type": "execute_result"
    }
   ],
   "source": [
    "kernel_variable = [v for v in tf.trainable_variables() if v.name == 'conv2d/kernel:0'][0]\n",
    "kernel = np.squeeze(s.run(kernel_variable))\n",
    "kernel.shape"
   ]
  },
  {
   "cell_type": "code",
   "execution_count": 41,
   "metadata": {},
   "outputs": [
    {
     "data": {
      "image/png": "[encoded data removed]",
      "text/plain": [
       "<matplotlib.figure.Figure at 0x7ff25742b590>"
      ]
     },
     "metadata": {},
     "output_type": "display_data"
    }
   ],
   "source": [
    "for i in range(3):\n",
    "    pl.subplot(1,3,i+1)\n",
    "    pl.imshow(kernel[:,:,i], cmap='gray_r');\n",
    "    pl.axis('off');"
   ]
  },
  {
   "cell_type": "code",
   "execution_count": null,
   "metadata": {
    "collapsed": true
   },
   "outputs": [],
   "source": []
  }
 ],
 "metadata": {
  "kernelspec": {
   "display_name": "Python 2",
   "language": "python",
   "name": "python2"
  },
  "language_info": {
   "codemirror_mode": {
    "name": "ipython",
    "version": 2
   },
   "file_extension": ".py",
   "mimetype": "text/x-python",
   "name": "python",
   "nbconvert_exporter": "python",
   "pygments_lexer": "ipython2",
   "version": "2.7.12"
  }
 },
 "nbformat": 4,
 "nbformat_minor": 2
}
