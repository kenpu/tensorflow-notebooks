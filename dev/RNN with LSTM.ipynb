{
 "cells": [
  {
   "cell_type": "code",
   "execution_count": 103,
   "metadata": {
    "collapsed": true
   },
   "outputs": [],
   "source": [
    "import tensorflow as tf\n",
    "from tensorflow.contrib import rnn\n",
    "import numpy as np\n",
    "import collections"
   ]
  },
  {
   "cell_type": "code",
   "execution_count": 104,
   "metadata": {
    "collapsed": true
   },
   "outputs": [],
   "source": [
    "def build_dataset(words):\n",
    "    count = collections.Counter(words).most_common()\n",
    "    dictionary = dict()\n",
    "    for word, _ in count:\n",
    "        dictionary[word] = len(dictionary)\n",
    "    reverse_dictionary = dict(zip(dictionary.values(), dictionary.keys()))\n",
    "    return dictionary, reverse_dictionary"
   ]
  },
  {
   "cell_type": "code",
   "execution_count": 105,
   "metadata": {
    "collapsed": true
   },
   "outputs": [],
   "source": [
    "with open('belling_the_cat.txt', 'r') as f:\n",
    "    train = f.read().split()\n",
    "    words = list(set(train))\n",
    "    n_voc = len(words)\n",
    "    word2idx, idx2word = dict(), dict()\n",
    "    for i, freq in enumerate(collections.Counter(train).most_common()):\n",
    "        word = freq[0]\n",
    "        word2idx[word] = i\n",
    "        idx2word[i] = word\n",
    "    \n",
    "    word2idx, idx2word = build_dataset(train)"
   ]
  },
  {
   "cell_type": "code",
   "execution_count": 106,
   "metadata": {
    "collapsed": true
   },
   "outputs": [],
   "source": [
    "tf.reset_default_graph()\n",
    "class RNN():\n",
    "    pass\n",
    "model = RNN()\n",
    "n_input = 3\n",
    "n_hidden = 512\n",
    "model.W = tf.Variable(tf.random_normal((n_hidden, n)))\n",
    "model.b = tf.Variable(tf.random_normal([n]))\n",
    "model.x = tf.placeholder(tf.float32, (None, n_input))\n",
    "model.ref = tf.placeholder(tf.float32, (None, n))\n",
    "model.x_seq = tf.split(model.x, n_input, 1)\n",
    "model.cell = rnn.BasicLSTMCell(n_hidden)\n",
    "\n",
    "outputs, states = rnn.static_rnn(model.cell, model.x_seq, dtype=tf.float32)\n",
    "model.pred = tf.matmul(outputs[-1], model.W) + model.b\n",
    "model.cost = tf.reduce_mean(\n",
    "    tf.nn.softmax_cross_entropy_with_logits(logits=model.pred, labels=model.ref))"
   ]
  },
  {
   "cell_type": "code",
   "execution_count": 107,
   "metadata": {
    "collapsed": true
   },
   "outputs": [],
   "source": [
    "rate = 0.001\n",
    "def onehot(n, i):\n",
    "    x = np.zeros((n), dtype=float)\n",
    "    x[i] = 1\n",
    "    return x\n",
    "\n",
    "optimizer = tf.train.RMSPropOptimizer(rate).minimize(model.cost)\n",
    "correct = tf.equal(tf.argmax(model.pred, 1), tf.argmax(model.ref))\n",
    "model.accuracy = tf.reduce_mean(tf.cast(correct, tf.float32))\n",
    "s = tf.Session()\n",
    "s.run(tf.global_variables_initializer())"
   ]
  },
  {
   "cell_type": "code",
   "execution_count": null,
   "metadata": {},
   "outputs": [
    {
     "name": "stdout",
     "output_type": "stream",
     "text": [
      "Starting...\n"
     ]
    }
   ],
   "source": [
    "epochs = 50000\n",
    "display_step = 10000\n",
    "\n",
    "print(\"Starting...\")\n",
    "total_acc = 0\n",
    "for epoch in range(epochs):\n",
    "    offset = epoch % (len(train) - n_input)\n",
    "    idx = np.asarray([[word2idx[w] for w in train[offset: offset+n_input]]])\n",
    "    ref = np.asarray([onehot(n, getidx(offset+n_input))])\n",
    "    feed = {model.x: idx, model.ref: ref}\n",
    "    _, acc, cost, pred = s.run([optimizer, model.accuracy, model.cost, model.pred], feed)\n",
    "    total_acc += acc\n",
    "    if (epoch+1) % display_step == 0:\n",
    "        print \"kens_debug\", acc\n",
    "        print \"[%d] Avg. Acc. = %.2f\" % (epoch+1, (total_acc / display_step * 100))\n",
    "        words_in = train[offset:offset+n_input]\n",
    "        word_out = train[offset+n_input]\n",
    "        j = s.run(tf.argmax(pred, 1))\n",
    "        word_pred = idx2word[j[0]]\n",
    "        print \"%s => %s [%s]\" % (words_in, word_out, word_pred)\n",
    "        total_acc = 0\n",
    "print(\"Done\")"
   ]
  },
  {
   "cell_type": "code",
   "execution_count": null,
   "metadata": {
    "collapsed": true
   },
   "outputs": [],
   "source": []
  }
 ],
 "metadata": {
  "kernelspec": {
   "display_name": "Python 2",
   "language": "python",
   "name": "python2"
  },
  "language_info": {
   "codemirror_mode": {
    "name": "ipython",
    "version": 2
   },
   "file_extension": ".py",
   "mimetype": "text/x-python",
   "name": "python",
   "nbconvert_exporter": "python",
   "pygments_lexer": "ipython2",
   "version": "2.7.12"
  }
 },
 "nbformat": 4,
 "nbformat_minor": 2
}
