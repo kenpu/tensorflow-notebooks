{
 "cells": [
  {
   "cell_type": "code",
   "execution_count": 2,
   "metadata": {
    "collapsed": true
   },
   "outputs": [],
   "source": [
    "import tensorflow as tf\n",
    "import numpy as np\n",
    "import matplotlib.pyplot as plt\n",
    "from sklearn import datasets\n",
    "%matplotlib inline"
   ]
  },
  {
   "cell_type": "markdown",
   "metadata": {},
   "source": [
    "# Generating the training data"
   ]
  },
  {
   "cell_type": "code",
   "execution_count": 3,
   "metadata": {},
   "outputs": [
    {
     "name": "stdout",
     "output_type": "stream",
     "text": [
      "(200, 2)\n",
      "(200,)\n"
     ]
    },
    {
     "data": {
      "image/png": "[encoded data removed]",
      "text/plain": [
       "<matplotlib.figure.Figure at 0x7fc5aea55790>"
      ]
     },
     "metadata": {},
     "output_type": "display_data"
    }
   ],
   "source": [
    "n = 200\n",
    "# (x, y) = datasets.make_circles(n_samples=n, noise=0.1)\n",
    "(x, y) = datasets.make_moons(n_samples=n, noise=0.1)\n",
    "I = (y > 0)\n",
    "J = np.logical_not(I)\n",
    "print x.shape\n",
    "print y.shape\n",
    "plt.plot(x[I,0], x[I, 1], '.', x[J,0], x[J, 1], 'x');"
   ]
  },
  {
   "cell_type": "markdown",
   "metadata": {},
   "source": [
    "# Building the Radical Basis Function Network"
   ]
  },
  {
   "cell_type": "code",
   "execution_count": 31,
   "metadata": {},
   "outputs": [],
   "source": [
    "class NN(object):\n",
    "    pass\n",
    "\n",
    "r = NN()\n",
    "\n",
    "# Number of radical basis to use\n",
    "N = 150\n",
    "\n",
    "r.x = tf.placeholder(tf.float32, (None, 2))\n",
    "r.ref = tf.placeholder(tf.float32, (None, 1))\n",
    "r.c = tf.Variable(tf.random_normal(shape=(N, 2)), dtype=tf.float32)\n",
    "r.v = tf.Variable(tf.ones(shape=(N,1)))\n",
    "r.W = tf.Variable(tf.random_normal(shape=(N, 1)))\n",
    "r.b = tf.Variable(0, dtype=tf.float32)\n",
    "\n",
    "e = tf.reshape(r.x, (-1, 1, 2)) - tf.reshape(r.c, (1, N, 2))\n",
    "d = tf.norm(e, axis=2)\n",
    "rho = tf.exp(-d * d / 2 / tf.transpose(r.v))\n",
    "r.y = tf.matmul(rho, r.W) + r.b"
   ]
  },
  {
   "cell_type": "markdown",
   "metadata": {},
   "source": [
    "## Define the error function"
   ]
  },
  {
   "cell_type": "code",
   "execution_count": 32,
   "metadata": {},
   "outputs": [],
   "source": [
    "r.err = tf.reduce_sum(tf.nn.sigmoid_cross_entropy_with_logits(labels=r.ref, logits=r.y))"
   ]
  },
  {
   "cell_type": "markdown",
   "metadata": {},
   "source": [
    "# Training"
   ]
  },
  {
   "cell_type": "code",
   "execution_count": 33,
   "metadata": {},
   "outputs": [
    {
     "data": {
      "text/plain": [
       "309.70578"
      ]
     },
     "execution_count": 33,
     "metadata": {},
     "output_type": "execute_result"
    }
   ],
   "source": [
    "batch_size = 100\n",
    "epochs = 400\n",
    "rate = 0.002\n",
    "\n",
    "def batch():\n",
    "    index = np.random.choice(n, batch_size)\n",
    "    x_train = x[index]\n",
    "    y_train = y[index].reshape(batch_size, 1)\n",
    "    return {r.x: x_train, r.ref: y_train}\n",
    "\n",
    "optimizer = tf.train.GradientDescentOptimizer(rate).minimize(r.err)\n",
    "\n",
    "s = tf.Session()\n",
    "s.run(tf.global_variables_initializer())\n",
    "s.run(r.err, batch())"
   ]
  },
  {
   "cell_type": "code",
   "execution_count": 34,
   "metadata": {},
   "outputs": [
    {
     "name": "stdout",
     "output_type": "stream",
     "text": [
      "[0] 288.194\n",
      "[40] 22.258\n",
      "[80] 19.440\n",
      "[120] 7.928\n",
      "[160] 4.433\n",
      "[200] 4.230\n",
      "[240] 5.239\n",
      "[280] 1.845\n",
      "[320] 1.780\n",
      "[360] 1.550\n",
      "Done: 1.754\n"
     ]
    }
   ],
   "source": [
    "for ep in range(epochs):\n",
    "    err, _ = s.run((r.err, optimizer), feed_dict=batch())\n",
    "    if ep % (epochs // 10) == 0:\n",
    "        print \"[%d] %.3f\" % (ep, err)\n",
    "print \"Done: %.3f\" % err"
   ]
  },
  {
   "cell_type": "markdown",
   "metadata": {},
   "source": [
    "# Plot the decision boundary"
   ]
  },
  {
   "cell_type": "code",
   "execution_count": 35,
   "metadata": {
    "collapsed": true
   },
   "outputs": [],
   "source": [
    "x0 = np.linspace(np.min(x[:,0]), np.max(x[:, 0]), 100)\n",
    "x1 = np.linspace(np.min(x[:,1]), np.max(x[:, 1]), 100)\n",
    "xx, yy = np.meshgrid(x0, x1)\n",
    "xy = np.asarray([xx.reshape(-1), yy.reshape(-1)]).T\n",
    "z = s.run(r.y, feed_dict={r.x: xy})\n",
    "z = z.reshape(100, 100)"
   ]
  },
  {
   "cell_type": "code",
   "execution_count": 36,
   "metadata": {},
   "outputs": [
    {
     "data": {
      "image/png": "[encoded data removed]",
      "text/plain": [
       "<matplotlib.figure.Figure at 0x7fc5a8c0b690>"
      ]
     },
     "metadata": {},
     "output_type": "display_data"
    }
   ],
   "source": [
    "plt.contourf(xx, yy, z, levels=[np.min(z), 0.5, np.max(z)], alpha=0.6);\n",
    "plt.plot(x[I,0], x[I, 1], '.', x[J,0], x[J, 1], 'x');"
   ]
  },
  {
   "cell_type": "code",
   "execution_count": null,
   "metadata": {
    "collapsed": true
   },
   "outputs": [],
   "source": []
  }
 ],
 "metadata": {
  "kernelspec": {
   "display_name": "Python 2",
   "language": "python",
   "name": "python2"
  },
  "language_info": {
   "codemirror_mode": {
    "name": "ipython",
    "version": 2
   },
   "file_extension": ".py",
   "mimetype": "text/x-python",
   "name": "python",
   "nbconvert_exporter": "python",
   "pygments_lexer": "ipython2",
   "version": "2.7.12"
  }
 },
 "nbformat": 4,
 "nbformat_minor": 2
}
