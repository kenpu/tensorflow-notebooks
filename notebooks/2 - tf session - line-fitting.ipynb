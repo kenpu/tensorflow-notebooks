{
 "cells": [
  {
   "cell_type": "code",
   "execution_count": 1,
   "metadata": {
    "collapsed": true
   },
   "outputs": [],
   "source": [
    "import tensorflow as tf\n",
    "import numpy as np\n",
    "from matplotlib import pyplot as P\n",
    "%matplotlib inline"
   ]
  },
  {
   "cell_type": "markdown",
   "metadata": {},
   "source": [
    "# Make up some noisy data points"
   ]
  },
  {
   "cell_type": "code",
   "execution_count": 6,
   "metadata": {
    "collapsed": true
   },
   "outputs": [],
   "source": [
    "N = 100\n",
    "a = 0.8\n",
    "x = np.linspace(-1, 1, N)\n",
    "y = a * x + np.random.normal(0, 0.2, N)"
   ]
  },
  {
   "cell_type": "code",
   "execution_count": 7,
   "metadata": {},
   "outputs": [
    {
     "data": {
      "image/png": "[encoded data removed]",
      "text/plain": [
       "<matplotlib.figure.Figure at 0x7f6922e82250>"
      ]
     },
     "metadata": {},
     "output_type": "display_data"
    }
   ],
   "source": [
    "P.plot(x, y, '.');"
   ]
  },
  {
   "cell_type": "markdown",
   "metadata": {},
   "source": [
    "# Build a TF network to predict y from x's"
   ]
  },
  {
   "cell_type": "code",
   "execution_count": 9,
   "metadata": {
    "collapsed": true
   },
   "outputs": [],
   "source": [
    "class Model():\n",
    "    pass\n",
    "m = Model()\n",
    "m.x = tf.placeholder(tf.float32, (None, 1))\n",
    "m.a = tf.Variable(0.0)\n",
    "m.b = tf.Variable(0.0)\n",
    "m.y = m.a * m.x + m.b # This uses very involved notion of broadcasting\n",
    "m.ref = tf.placeholder(tf.float32, (None, 1))\n",
    "m.err = tf.reduce_mean(tf.pow(m.y - m.ref, 2))"
   ]
  },
  {
   "cell_type": "markdown",
   "metadata": {},
   "source": [
    "# Train the model to minimize error"
   ]
  },
  {
   "cell_type": "code",
   "execution_count": 33,
   "metadata": {
    "collapsed": true
   },
   "outputs": [],
   "source": [
    "learning_rate = 0.04\n",
    "epochs = 100\n",
    "optimizer = tf.train.GradientDescentOptimizer(learning_rate).minimize(m.err)"
   ]
  },
  {
   "cell_type": "code",
   "execution_count": 34,
   "metadata": {
    "collapsed": true
   },
   "outputs": [],
   "source": [
    "s = tf.Session()\n",
    "s.run(tf.global_variables_initializer())\n",
    "feed = {m.x: x.reshape(100, 1), m.ref: y.reshape(100,1)}"
   ]
  },
  {
   "cell_type": "code",
   "execution_count": 38,
   "metadata": {},
   "outputs": [
    {
     "name": "stdout",
     "output_type": "stream",
     "text": [
      "[0] error = 0.0373\n",
      "[10] error = 0.0373\n",
      "[20] error = 0.0373\n",
      "[30] error = 0.0373\n",
      "[40] error = 0.0373\n",
      "[50] error = 0.0373\n",
      "[60] error = 0.0373\n",
      "[70] error = 0.0373\n",
      "[80] error = 0.0373\n",
      "[90] error = 0.0373\n",
      "('Done with:', (0.80217338, -0.0072327023))\n"
     ]
    }
   ],
   "source": [
    "for i in range(epochs):\n",
    "    err, _ = s.run([m.err, optimizer], feed_dict=feed)\n",
    "    if i % (epochs / 10) == 0:\n",
    "        print(\"[%d] error = %.4f\" % (i, err))\n",
    "print(\"Done with:\", s.run((m.a, m.b)))"
   ]
  },
  {
   "cell_type": "code",
   "execution_count": 39,
   "metadata": {
    "collapsed": true
   },
   "outputs": [],
   "source": [
    "(ma, mb) = s.run((m.a, m.b))"
   ]
  },
  {
   "cell_type": "code",
   "execution_count": 41,
   "metadata": {},
   "outputs": [
    {
     "data": {
      "text/plain": [
       "[<matplotlib.lines.Line2D at 0x7f6922ed2990>,\n",
       " <matplotlib.lines.Line2D at 0x7f6922ed2a90>]"
      ]
     },
     "execution_count": 41,
     "metadata": {},
     "output_type": "execute_result"
    },
    {
     "data": {
      "image/png": "[encoded data removed]",
      "text/plain": [
       "<matplotlib.figure.Figure at 0x7f6923074a50>"
      ]
     },
     "metadata": {},
     "output_type": "display_data"
    }
   ],
   "source": [
    "P.plot(x, y, '.', x, ma*x + mb, '--r')"
   ]
  },
  {
   "cell_type": "code",
   "execution_count": null,
   "metadata": {
    "collapsed": true
   },
   "outputs": [],
   "source": []
  }
 ],
 "metadata": {
  "kernelspec": {
   "display_name": "Python 2",
   "language": "python",
   "name": "python2"
  },
  "language_info": {
   "codemirror_mode": {
    "name": "ipython",
    "version": 2
   },
   "file_extension": ".py",
   "mimetype": "text/x-python",
   "name": "python",
   "nbconvert_exporter": "python",
   "pygments_lexer": "ipython2",
   "version": "2.7.12"
  }
 },
 "nbformat": 4,
 "nbformat_minor": 2
}
